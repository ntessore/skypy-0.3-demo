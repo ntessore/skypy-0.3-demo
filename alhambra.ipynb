{
 "cells": [
  {
   "cell_type": "code",
   "execution_count": null,
   "metadata": {},
   "outputs": [],
   "source": [
    "import numpy as np"
   ]
  },
  {
   "cell_type": "code",
   "execution_count": null,
   "metadata": {},
   "outputs": [],
   "source": [
    "%matplotlib inline\n",
    "import matplotlib.pyplot as plt\n",
    "from matplotlib.colors import LogNorm"
   ]
  },
  {
   "cell_type": "code",
   "execution_count": null,
   "metadata": {},
   "outputs": [],
   "source": [
    "from sys import stdout"
   ]
  },
  {
   "cell_type": "markdown",
   "metadata": {},
   "source": [
    "## data"
   ]
  },
  {
   "cell_type": "code",
   "execution_count": null,
   "metadata": {},
   "outputs": [],
   "source": [
    "from astropy.table import Table"
   ]
  },
  {
   "cell_type": "code",
   "execution_count": null,
   "metadata": {},
   "outputs": [],
   "source": [
    "data = Table.read('http://svo2.cab.inta-csic.es/vocats/alhambra/download/alhambra.csv.gz', format='ascii.csv')"
   ]
  },
  {
   "cell_type": "code",
   "execution_count": null,
   "metadata": {},
   "outputs": [],
   "source": [
    "data_good = (data['zb_1'] <= 1.0) & (data['Stellar_Flag'] <= 0.5) & (data['Satur_Flag'] == 0)"
   ]
  },
  {
   "cell_type": "code",
   "execution_count": null,
   "metadata": {},
   "outputs": [],
   "source": [
    "data_z, data_M = data[data_good]['zb_1'], data[data_good]['M_ABS_1']"
   ]
  },
  {
   "cell_type": "code",
   "execution_count": null,
   "metadata": {},
   "outputs": [],
   "source": [
    "len(data_z)"
   ]
  },
  {
   "cell_type": "code",
   "execution_count": null,
   "metadata": {},
   "outputs": [],
   "source": [
    "bins_z = np.linspace(0, 1, 10)\n",
    "bins_M = np.linspace(-24, -16, 20)"
   ]
  },
  {
   "cell_type": "code",
   "execution_count": null,
   "metadata": {},
   "outputs": [],
   "source": [
    "data_zM, _, _ = np.histogram2d(data_z, data_M, bins=[bins_z, bins_M])"
   ]
  },
  {
   "cell_type": "code",
   "execution_count": null,
   "metadata": {},
   "outputs": [],
   "source": [
    "plt.imshow(data_zM.T, norm=LogNorm(), extent=(bins_z[0], bins_z[-1], bins_M[0], bins_M[-1]), aspect='auto')\n",
    "plt.xlabel('redshift')\n",
    "plt.ylabel('magnitude')\n",
    "plt.clim(1, 1e4)\n",
    "plt.colorbar()\n",
    "plt.show()"
   ]
  },
  {
   "cell_type": "markdown",
   "metadata": {},
   "source": [
    "## model"
   ]
  },
  {
   "cell_type": "code",
   "execution_count": null,
   "metadata": {},
   "outputs": [],
   "source": [
    "%cat alhambra.yml"
   ]
  },
  {
   "cell_type": "code",
   "execution_count": null,
   "metadata": {},
   "outputs": [],
   "source": [
    "from skypy.pipeline import Pipeline"
   ]
  },
  {
   "cell_type": "code",
   "execution_count": null,
   "metadata": {},
   "outputs": [],
   "source": [
    "model = Pipeline.read('alhambra.yml')"
   ]
  },
  {
   "cell_type": "code",
   "execution_count": null,
   "metadata": {},
   "outputs": [],
   "source": [
    "model.execute()"
   ]
  },
  {
   "cell_type": "code",
   "execution_count": null,
   "metadata": {},
   "outputs": [],
   "source": [
    "model_z = np.concatenate([model['SF.z'], model['Q.z']])\n",
    "model_M = np.concatenate([model['SF.M'], model['Q.M']])"
   ]
  },
  {
   "cell_type": "code",
   "execution_count": null,
   "metadata": {},
   "outputs": [],
   "source": [
    "model_zM, _, _ = np.histogram2d(model_z, model_M, bins=[bins_z, bins_M])"
   ]
  },
  {
   "cell_type": "code",
   "execution_count": null,
   "metadata": {},
   "outputs": [],
   "source": [
    "plt.imshow(data_zM.T, norm=LogNorm(), extent=(bins_z[0], bins_z[-1], bins_M[0], bins_M[-1]), aspect='auto')\n",
    "plt.xlabel('redshift')\n",
    "plt.ylabel('magnitude')\n",
    "plt.clim(1, 1e4)\n",
    "plt.colorbar()\n",
    "plt.show()\n",
    "\n",
    "plt.imshow(model_zM.T, norm=LogNorm(), extent=(bins_z[0], bins_z[-1], bins_M[0], bins_M[-1]), aspect='auto')\n",
    "plt.xlabel('redshift')\n",
    "plt.ylabel('magnitude')\n",
    "plt.clim(1, 1e4)\n",
    "plt.colorbar()\n",
    "plt.show()"
   ]
  },
  {
   "cell_type": "code",
   "execution_count": null,
   "metadata": {},
   "outputs": [],
   "source": [
    "parameters = model.parameters.copy()"
   ]
  },
  {
   "cell_type": "markdown",
   "metadata": {},
   "source": [
    "## inference"
   ]
  },
  {
   "cell_type": "code",
   "execution_count": null,
   "metadata": {},
   "outputs": [],
   "source": [
    "from scipy.optimize import minimize"
   ]
  },
  {
   "cell_type": "code",
   "execution_count": null,
   "metadata": {},
   "outputs": [],
   "source": [
    "def compute_covariance(parameters, n_samples=10):\n",
    "    samples = []\n",
    "\n",
    "    for i in range(n_samples):\n",
    "        stdout.write('.')\n",
    "\n",
    "        model.execute(parameters)\n",
    "\n",
    "        model_z = np.concatenate([model['SF.z'], model['Q.z']])\n",
    "        model_M = np.concatenate([model['SF.M'], model['Q.M']])\n",
    "\n",
    "        model_zM, _, _ = np.histogram2d(model_z, model_M, bins=[bins_z, bins_M])\n",
    "\n",
    "        samples.append(model_zM.reshape(-1))\n",
    "\n",
    "    return np.linalg.pinv(np.cov(samples, rowvar=False), hermitian=True)"
   ]
  },
  {
   "cell_type": "code",
   "execution_count": null,
   "metadata": {},
   "outputs": [],
   "source": [
    "def metric(values, W):\n",
    "    model.execute(zip(parameters.keys(), values))\n",
    "\n",
    "    model_z = np.concatenate([model['SF.z'], model['Q.z']])\n",
    "    model_M = np.concatenate([model['SF.M'], model['Q.M']])\n",
    "\n",
    "    model_zM, _, _ = np.histogram2d(model_z, model_M, bins=[bins_z, bins_M])\n",
    "\n",
    "    x = data_zM.reshape(-1) - model_zM.reshape(-1)\n",
    "\n",
    "    score = x@W@x\n",
    "\n",
    "    if score < 0:\n",
    "        score = np.inf\n",
    "\n",
    "    stdout.write('.')\n",
    "\n",
    "    return score"
   ]
  },
  {
   "cell_type": "code",
   "execution_count": null,
   "metadata": {},
   "outputs": [],
   "source": [
    "def find_parameters(parameters, repeats):\n",
    "    try:\n",
    "        for i in range(repeats):\n",
    "            stdout.write('covariance ')\n",
    "            W = compute_covariance(parameters)\n",
    "            stdout.write('\\n')\n",
    "\n",
    "            stdout.write('minimize ')\n",
    "            result = minimize(metric, list(parameters.values()), args=(W,),\n",
    "                              method='Nelder-Mead', options={'maxiter': 10})\n",
    "            stdout.write('\\n')\n",
    "\n",
    "            parameters = dict(zip(parameters.keys(), result.x))\n",
    "    except KeyboardInterrupt:\n",
    "        stdout.write('\\ninterrupted!')\n",
    "    return parameters"
   ]
  },
  {
   "cell_type": "code",
   "execution_count": null,
   "metadata": {},
   "outputs": [],
   "source": [
    "new_parameters = find_parameters(parameters, 3)"
   ]
  },
  {
   "cell_type": "code",
   "execution_count": null,
   "metadata": {},
   "outputs": [],
   "source": [
    "model.execute(new_parameters)"
   ]
  },
  {
   "cell_type": "code",
   "execution_count": null,
   "metadata": {},
   "outputs": [],
   "source": [
    "model_z = np.concatenate([model['SF.z'], model['Q.z']])\n",
    "model_M = np.concatenate([model['SF.M'], model['Q.M']])"
   ]
  },
  {
   "cell_type": "code",
   "execution_count": null,
   "metadata": {},
   "outputs": [],
   "source": [
    "model_zM, _, _ = np.histogram2d(model_z, model_M, bins=[bins_z, bins_M])"
   ]
  },
  {
   "cell_type": "code",
   "execution_count": null,
   "metadata": {},
   "outputs": [],
   "source": [
    "np.sum(model_zM), np.sum(data_zM)"
   ]
  },
  {
   "cell_type": "code",
   "execution_count": null,
   "metadata": {},
   "outputs": [],
   "source": [
    "plt.imshow(data_zM.T, norm=LogNorm(), extent=(bins_z[0], bins_z[-1], bins_M[0], bins_M[-1]), aspect='auto')\n",
    "plt.xlabel('redshift')\n",
    "plt.ylabel('magnitude')\n",
    "plt.clim(1, 1e4)\n",
    "plt.colorbar()\n",
    "plt.show()\n",
    "\n",
    "plt.imshow(model_zM.T, norm=LogNorm(), extent=(bins_z[0], bins_z[-1], bins_M[0], bins_M[-1]), aspect='auto')\n",
    "plt.xlabel('redshift')\n",
    "plt.ylabel('magnitude')\n",
    "plt.clim(1, 1e4)\n",
    "plt.colorbar()\n",
    "plt.show()"
   ]
  },
  {
   "cell_type": "code",
   "execution_count": null,
   "metadata": {},
   "outputs": [],
   "source": [
    "print(np.c_[list(parameters.values()),\n",
    "            list(new_parameters.values())])"
   ]
  },
  {
   "cell_type": "code",
   "execution_count": null,
   "metadata": {},
   "outputs": [],
   "source": []
  }
 ],
 "metadata": {
  "kernelspec": {
   "display_name": "Python 3",
   "language": "python",
   "name": "python3"
  },
  "language_info": {
   "codemirror_mode": {
    "name": "ipython",
    "version": 3
   },
   "file_extension": ".py",
   "mimetype": "text/x-python",
   "name": "python",
   "nbconvert_exporter": "python",
   "pygments_lexer": "ipython3",
   "version": "3.7.9"
  }
 },
 "nbformat": 4,
 "nbformat_minor": 4
}
